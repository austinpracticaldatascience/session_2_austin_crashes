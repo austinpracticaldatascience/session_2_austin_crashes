{
 "cells": [
  {
   "cell_type": "raw",
   "id": "ef29deae-6e71-483d-a4c6-d12e639a12af",
   "metadata": {
    "jupyter": {
     "outputs_hidden": true
    },
    "tags": []
   },
   "source": [
    "!pip3 install overpass"
   ]
  },
  {
   "cell_type": "raw",
   "id": "f69a6d5e-8b94-4cf8-ac04-515d4686993f",
   "metadata": {
    "jupyter": {
     "outputs_hidden": true
    },
    "tags": []
   },
   "source": [
    "!pip3 install folium matplotlib mapclassify"
   ]
  },
  {
   "cell_type": "code",
   "execution_count": null,
   "id": "059db40e-e01d-4bf6-96de-0d515449d21c",
   "metadata": {},
   "outputs": [],
   "source": [
    "import overpass"
   ]
  },
  {
   "cell_type": "code",
   "execution_count": 2,
   "id": "8d5b3f77-8ab0-484c-804f-a4fc8b7e8f16",
   "metadata": {},
   "outputs": [
    {
     "ename": "NameError",
     "evalue": "name 'overpass' is not defined",
     "output_type": "error",
     "traceback": [
      "\u001b[0;31m---------------------------------------------------------------------------\u001b[0m",
      "\u001b[0;31mNameError\u001b[0m                                 Traceback (most recent call last)",
      "Input \u001b[0;32mIn [2]\u001b[0m, in \u001b[0;36m<cell line: 1>\u001b[0;34m()\u001b[0m\n\u001b[0;32m----> 1\u001b[0m api \u001b[38;5;241m=\u001b[39m \u001b[43moverpass\u001b[49m\u001b[38;5;241m.\u001b[39mAPI()\n",
      "\u001b[0;31mNameError\u001b[0m: name 'overpass' is not defined"
     ]
    }
   ],
   "source": [
    "api = overpass.API()"
   ]
  },
  {
   "cell_type": "code",
   "execution_count": 3,
   "id": "2f9ea86b-0482-4e43-a864-cff301601e68",
   "metadata": {},
   "outputs": [],
   "source": [
    "# Austin Administrative area (N.B. this explains why data stops before Cedar Park etc.)\n",
    "# https://www.openstreetmap.org/relation/113314\n",
    "AUSTIN_RELATION_ID=113314"
   ]
  },
  {
   "cell_type": "raw",
   "id": "0251699d-67ec-43cb-87b7-e41e386407ff",
   "metadata": {},
   "source": [
    "query = f'''area({3600000000 + AUSTIN_RELATION_ID})->.a;\n",
    "(\n",
    "way(area.a)\n",
    "[\"name\"]\n",
    "[\"highway\"]\n",
    "[\"highway\" !~ \"path\"]\n",
    "[\"highway\" !~ \"steps\"]\n",
    "[\"highway\" !~ \"motorway\"]\n",
    "[\"highway\" !~ \"motorway_link\"]\n",
    "[\"highway\" !~ \"raceway\"]\n",
    "[\"highway\" !~ \"bridleway\"]\n",
    "[\"highway\" !~ \"proposed\"]\n",
    "[\"highway\" !~ \"construction\"]\n",
    "[\"highway\" !~ \"elevator\"]\n",
    "[\"highway\" !~ \"bus_guideway\"]\n",
    "[\"highway\" !~ \"footway\"]\n",
    "[\"highway\" !~ \"cycleway\"]\n",
    "[\"foot\" !~ \"no\"]\n",
    "[\"access\" !~ \"private\"]\n",
    "[\"access\" !~ \"no\"];\n",
    "node(w)(area.a);\n",
    ");\n",
    "out;'''\n",
    "\n",
    "response = api.get(query)"
   ]
  },
  {
   "cell_type": "raw",
   "id": "fb323e3d-78ff-4faa-99e8-11fd3b27847e",
   "metadata": {},
   "source": [
    "query = f'''area({3600000000 + AUSTIN_RELATION_ID})->.a;\n",
    "(\n",
    "way(area.a)[\"highway\"];\n",
    ");\n",
    "out;'''\n",
    "\n",
    "response = api.get(query)"
   ]
  },
  {
   "cell_type": "raw",
   "id": "f0d1a373-3606-44b7-93e6-5f5dd5dcca76",
   "metadata": {},
   "source": [
    "df = gpd.GeoDataFrame.from_features(response)"
   ]
  },
  {
   "cell_type": "code",
   "execution_count": 4,
   "id": "091c023a-8d3b-48f6-aa67-265a42406613",
   "metadata": {},
   "outputs": [],
   "source": [
    "import os\n",
    "import geopandas as gpd"
   ]
  },
  {
   "cell_type": "code",
   "execution_count": 5,
   "id": "c30dc301-3462-4c0e-8218-90329d208ec6",
   "metadata": {},
   "outputs": [
    {
     "data": {
      "text/plain": [
       "'/Users/michaelhinds/Documents/APDS/AustinOSM/session_2_austin_crashes/road_data'"
      ]
     },
     "execution_count": 5,
     "metadata": {},
     "output_type": "execute_result"
    }
   ],
   "source": [
    "os.getcwd()"
   ]
  },
  {
   "cell_type": "code",
   "execution_count": 7,
   "id": "87a16c7a-deef-4012-9905-382f79a954d1",
   "metadata": {},
   "outputs": [],
   "source": [
    "df = gpd.read_file('roads.shp')"
   ]
  },
  {
   "cell_type": "code",
   "execution_count": null,
   "id": "99b93f3b-f520-49cc-bfe8-3e3c54f9943a",
   "metadata": {},
   "outputs": [],
   "source": [
    "df.head()"
   ]
  },
  {
   "cell_type": "code",
   "execution_count": 13,
   "id": "1f90e819-dd31-4b36-a720-7bcc0a0e96e8",
   "metadata": {},
   "outputs": [
    {
     "data": {
      "text/plain": [
       "<AxesSubplot:>"
      ]
     },
     "execution_count": 13,
     "metadata": {},
     "output_type": "execute_result"
    }
   ],
   "source": [
    "df.plot()"
   ]
  },
  {
   "cell_type": "code",
   "execution_count": 45,
   "id": "731561cf-03b2-406b-a35e-4a93b506f627",
   "metadata": {},
   "outputs": [
    {
     "data": {
      "text/plain": [
       "array(['motorway', 'motorway_link', 'primary', 'secondary', 'service',\n",
       "       'residential', 'tertiary', 'track', 'tertiary_link',\n",
       "       'unclassified', 'secondary_link', 'primary_link', 'construction',\n",
       "       'trunk_link', 'proposed', 'path', 'pedestrian', 'footway',\n",
       "       'cycleway', 'living_street', 'trunk', 'steps', 'raceway',\n",
       "       'corridor', 'bus_stop', 'services', 'planned'], dtype=object)"
      ]
     },
     "execution_count": 45,
     "metadata": {},
     "output_type": "execute_result"
    }
   ],
   "source": [
    "df['type'].unique()"
   ]
  },
  {
   "cell_type": "raw",
   "id": "7ee1f05e-2589-4980-a0ab-db815c88e562",
   "metadata": {},
   "source": [
    "https://wiki.openstreetmap.org/wiki/Map_features#Roads"
   ]
  },
  {
   "cell_type": "code",
   "execution_count": 46,
   "id": "d0e13674-e972-4a58-a760-61999d3d88e9",
   "metadata": {},
   "outputs": [],
   "source": [
    "relevant_street_types = ['motorway', 'motorway_link', 'primary', 'secondary', 'service',\n",
    "                         'residential', 'tertiary', 'track', 'tertiary_link',\n",
    "                         'unclassified', 'secondary_link', 'primary_link', 'construction',\n",
    "                         'trunk_link', 'proposed', 'path', 'pedestrian', 'footway',\n",
    "                         'cycleway', 'living_street', 'trunk', 'steps', 'raceway',\n",
    "                         'corridor', 'bus_stop', 'services', 'planned']"
   ]
  },
  {
   "cell_type": "code",
   "execution_count": null,
   "id": "26297064-9d03-4051-bd00-3ae3bd544305",
   "metadata": {},
   "outputs": [],
   "source": []
  },
  {
   "cell_type": "code",
   "execution_count": null,
   "id": "80f1bc5a-fffd-4fd3-a041-e4a1b776df3a",
   "metadata": {},
   "outputs": [],
   "source": []
  }
 ],
 "metadata": {
  "kernelspec": {
   "display_name": "Python 3 (ipykernel)",
   "language": "python",
   "name": "python3"
  },
  "language_info": {
   "codemirror_mode": {
    "name": "ipython",
    "version": 3
   },
   "file_extension": ".py",
   "mimetype": "text/x-python",
   "name": "python",
   "nbconvert_exporter": "python",
   "pygments_lexer": "ipython3",
   "version": "3.8.11"
  }
 },
 "nbformat": 4,
 "nbformat_minor": 5
}
