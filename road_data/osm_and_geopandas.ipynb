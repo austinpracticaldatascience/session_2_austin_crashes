{
 "cells": [
  {
   "cell_type": "code",
   "execution_count": 1,
   "id": "dec06f2c-c3ea-4667-84cc-a1762744f351",
   "metadata": {
    "collapsed": true,
    "jupyter": {
     "outputs_hidden": true
    },
    "tags": []
   },
   "outputs": [
    {
     "name": "stdout",
     "output_type": "stream",
     "text": [
      "Requirement already satisfied: overpass in /Users/michaelhinds/opt/anaconda3/lib/python3.8/site-packages (0.7)\n",
      "Requirement already satisfied: requests>=2.3.0 in /Users/michaelhinds/opt/anaconda3/lib/python3.8/site-packages (from overpass) (2.25.1)\n",
      "Requirement already satisfied: shapely>=1.6.4 in /Users/michaelhinds/opt/anaconda3/lib/python3.8/site-packages (from overpass) (1.8.1.post1)\n",
      "Requirement already satisfied: geojson>=1.0.9 in /Users/michaelhinds/opt/anaconda3/lib/python3.8/site-packages (from overpass) (2.5.0)\n",
      "Requirement already satisfied: idna<3,>=2.5 in /Users/michaelhinds/opt/anaconda3/lib/python3.8/site-packages (from requests>=2.3.0->overpass) (2.10)\n",
      "Requirement already satisfied: certifi>=2017.4.17 in /Users/michaelhinds/opt/anaconda3/lib/python3.8/site-packages (from requests>=2.3.0->overpass) (2021.10.8)\n",
      "Requirement already satisfied: chardet<5,>=3.0.2 in /Users/michaelhinds/opt/anaconda3/lib/python3.8/site-packages (from requests>=2.3.0->overpass) (4.0.0)\n",
      "Requirement already satisfied: urllib3<1.27,>=1.21.1 in /Users/michaelhinds/opt/anaconda3/lib/python3.8/site-packages (from requests>=2.3.0->overpass) (1.26.6)\n"
     ]
    }
   ],
   "source": [
    "!pip3 install overpass"
   ]
  },
  {
   "cell_type": "code",
   "execution_count": 80,
   "id": "e9506efd-2421-4bce-b5c1-d479f9252d8c",
   "metadata": {
    "collapsed": true,
    "jupyter": {
     "outputs_hidden": true
    },
    "tags": []
   },
   "outputs": [
    {
     "name": "stdout",
     "output_type": "stream",
     "text": [
      "Collecting folium\n",
      "  Downloading folium-0.12.1.post1-py2.py3-none-any.whl (95 kB)\n",
      "\u001b[K     |████████████████████████████████| 95 kB 4.1 MB/s eta 0:00:011\n",
      "\u001b[?25hRequirement already satisfied: matplotlib in /Users/michaelhinds/opt/anaconda3/lib/python3.8/site-packages (3.3.4)\n",
      "Collecting mapclassify\n",
      "  Using cached mapclassify-2.4.3-py3-none-any.whl (38 kB)\n",
      "Requirement already satisfied: jinja2>=2.9 in /Users/michaelhinds/opt/anaconda3/lib/python3.8/site-packages (from folium) (2.11.3)\n",
      "Collecting branca>=0.3.0\n",
      "  Downloading branca-0.5.0-py3-none-any.whl (24 kB)\n",
      "Requirement already satisfied: numpy in /Users/michaelhinds/opt/anaconda3/lib/python3.8/site-packages (from folium) (1.21.0)\n",
      "Requirement already satisfied: requests in /Users/michaelhinds/opt/anaconda3/lib/python3.8/site-packages (from folium) (2.25.1)\n",
      "Requirement already satisfied: MarkupSafe>=0.23 in /Users/michaelhinds/opt/anaconda3/lib/python3.8/site-packages (from jinja2>=2.9->folium) (1.1.1)\n",
      "Requirement already satisfied: kiwisolver>=1.0.1 in /Users/michaelhinds/opt/anaconda3/lib/python3.8/site-packages (from matplotlib) (1.3.1)\n",
      "Requirement already satisfied: pyparsing!=2.0.4,!=2.1.2,!=2.1.6,>=2.0.3 in /Users/michaelhinds/opt/anaconda3/lib/python3.8/site-packages (from matplotlib) (2.4.7)\n",
      "Requirement already satisfied: pillow>=6.2.0 in /Users/michaelhinds/opt/anaconda3/lib/python3.8/site-packages (from matplotlib) (8.2.0)\n",
      "Requirement already satisfied: python-dateutil>=2.1 in /Users/michaelhinds/opt/anaconda3/lib/python3.8/site-packages (from matplotlib) (2.8.1)\n",
      "Requirement already satisfied: cycler>=0.10 in /Users/michaelhinds/opt/anaconda3/lib/python3.8/site-packages (from matplotlib) (0.10.0)\n",
      "Requirement already satisfied: six in /Users/michaelhinds/opt/anaconda3/lib/python3.8/site-packages (from cycler>=0.10->matplotlib) (1.16.0)\n",
      "Requirement already satisfied: networkx in /Users/michaelhinds/opt/anaconda3/lib/python3.8/site-packages (from mapclassify) (2.5.1)\n",
      "Requirement already satisfied: scikit-learn in /Users/michaelhinds/opt/anaconda3/lib/python3.8/site-packages (from mapclassify) (0.24.2)\n",
      "Requirement already satisfied: pandas>=1.0 in /Users/michaelhinds/opt/anaconda3/lib/python3.8/site-packages (from mapclassify) (1.3.2)\n",
      "Requirement already satisfied: scipy>=1.0 in /Users/michaelhinds/opt/anaconda3/lib/python3.8/site-packages (from mapclassify) (1.6.2)\n",
      "Requirement already satisfied: pytz>=2017.3 in /Users/michaelhinds/opt/anaconda3/lib/python3.8/site-packages (from pandas>=1.0->mapclassify) (2021.1)\n",
      "Requirement already satisfied: decorator<5,>=4.3 in /Users/michaelhinds/opt/anaconda3/lib/python3.8/site-packages (from networkx->mapclassify) (4.4.2)\n",
      "Requirement already satisfied: chardet<5,>=3.0.2 in /Users/michaelhinds/opt/anaconda3/lib/python3.8/site-packages (from requests->folium) (4.0.0)\n",
      "Requirement already satisfied: idna<3,>=2.5 in /Users/michaelhinds/opt/anaconda3/lib/python3.8/site-packages (from requests->folium) (2.10)\n",
      "Requirement already satisfied: certifi>=2017.4.17 in /Users/michaelhinds/opt/anaconda3/lib/python3.8/site-packages (from requests->folium) (2021.10.8)\n",
      "Requirement already satisfied: urllib3<1.27,>=1.21.1 in /Users/michaelhinds/opt/anaconda3/lib/python3.8/site-packages (from requests->folium) (1.26.6)\n",
      "Requirement already satisfied: threadpoolctl>=2.0.0 in /Users/michaelhinds/opt/anaconda3/lib/python3.8/site-packages (from scikit-learn->mapclassify) (2.1.0)\n",
      "Requirement already satisfied: joblib>=0.11 in /Users/michaelhinds/opt/anaconda3/lib/python3.8/site-packages (from scikit-learn->mapclassify) (1.0.1)\n",
      "Installing collected packages: branca, mapclassify, folium\n",
      "Successfully installed branca-0.5.0 folium-0.12.1.post1 mapclassify-2.4.3\n"
     ]
    }
   ],
   "source": [
    "!pip3 install folium matplotlib mapclassify"
   ]
  },
  {
   "cell_type": "code",
   "execution_count": 43,
   "id": "091c023a-8d3b-48f6-aa67-265a42406613",
   "metadata": {},
   "outputs": [],
   "source": [
    "import overpass\n",
    "import geopandas as gpd"
   ]
  },
  {
   "cell_type": "code",
   "execution_count": 3,
   "id": "8d5b3f77-8ab0-484c-804f-a4fc8b7e8f16",
   "metadata": {},
   "outputs": [],
   "source": [
    "api = overpass.API()"
   ]
  },
  {
   "cell_type": "code",
   "execution_count": 16,
   "id": "2f9ea86b-0482-4e43-a864-cff301601e68",
   "metadata": {},
   "outputs": [],
   "source": [
    "# Austin Administrative area (N.B. this explains why data stops before Cedar Park etc.)\n",
    "# https://www.openstreetmap.org/relation/113314\n",
    "AUSTIN_RELATION_ID=113314"
   ]
  },
  {
   "cell_type": "code",
   "execution_count": 36,
   "id": "1a7dedf6-1cac-4a22-9477-eef7bcd25a52",
   "metadata": {},
   "outputs": [],
   "source": [
    "query = f'''area({3600000000 + AUSTIN_RELATION_ID})->.a;\n",
    "(\n",
    "way(area.a)\n",
    "[\"name\"]\n",
    "[\"highway\"]\n",
    "[\"highway\" !~ \"path\"]\n",
    "[\"highway\" !~ \"steps\"]\n",
    "[\"highway\" !~ \"motorway\"]\n",
    "[\"highway\" !~ \"motorway_link\"]\n",
    "[\"highway\" !~ \"raceway\"]\n",
    "[\"highway\" !~ \"bridleway\"]\n",
    "[\"highway\" !~ \"proposed\"]\n",
    "[\"highway\" !~ \"construction\"]\n",
    "[\"highway\" !~ \"elevator\"]\n",
    "[\"highway\" !~ \"bus_guideway\"]\n",
    "[\"highway\" !~ \"footway\"]\n",
    "[\"highway\" !~ \"cycleway\"]\n",
    "[\"foot\" !~ \"no\"]\n",
    "[\"access\" !~ \"private\"]\n",
    "[\"access\" !~ \"no\"];\n",
    "node(w)(area.a);\n",
    ");\n",
    "out;'''\n",
    "\n",
    "response = api.get(query)"
   ]
  },
  {
   "cell_type": "code",
   "execution_count": 42,
   "id": "916d0e64-4463-423c-bed7-25041c132a7c",
   "metadata": {},
   "outputs": [
    {
     "data": {
      "text/plain": [
       "geojson.feature.FeatureCollection"
      ]
     },
     "execution_count": 42,
     "metadata": {},
     "output_type": "execute_result"
    }
   ],
   "source": [
    "type(response)"
   ]
  },
  {
   "cell_type": "code",
   "execution_count": 57,
   "id": "4ea43fd6-cec0-4e04-836f-3590289c0bb2",
   "metadata": {},
   "outputs": [],
   "source": [
    "df = gpd.GeoDataFrame.from_features(response)"
   ]
  },
  {
   "cell_type": "code",
   "execution_count": 62,
   "id": "403d3a2e-f386-4fbf-b4aa-10b664cc8c77",
   "metadata": {},
   "outputs": [
    {
     "data": {
      "text/html": [
       "<div>\n",
       "<style scoped>\n",
       "    .dataframe tbody tr th:only-of-type {\n",
       "        vertical-align: middle;\n",
       "    }\n",
       "\n",
       "    .dataframe tbody tr th {\n",
       "        vertical-align: top;\n",
       "    }\n",
       "\n",
       "    .dataframe thead th {\n",
       "        text-align: right;\n",
       "    }\n",
       "</style>\n",
       "<table border=\"1\" class=\"dataframe\">\n",
       "  <thead>\n",
       "    <tr style=\"text-align: right;\">\n",
       "      <th></th>\n",
       "      <th>geometry</th>\n",
       "      <th>highway</th>\n",
       "      <th>traffic_signals</th>\n",
       "      <th>curve_geometry</th>\n",
       "      <th>traffic_signals:direction</th>\n",
       "      <th>disused:railway</th>\n",
       "      <th>source</th>\n",
       "      <th>noref</th>\n",
       "      <th>stop</th>\n",
       "      <th>direction</th>\n",
       "      <th>...</th>\n",
       "      <th>sidewalk:right:bicycle</th>\n",
       "      <th>status</th>\n",
       "      <th>rideshare</th>\n",
       "      <th>check_date</th>\n",
       "      <th>embankment</th>\n",
       "      <th>tunnel</th>\n",
       "      <th>turn</th>\n",
       "      <th>sidewalk:both:surface</th>\n",
       "      <th>landuse</th>\n",
       "      <th>construction</th>\n",
       "    </tr>\n",
       "  </thead>\n",
       "  <tbody>\n",
       "    <tr>\n",
       "      <th>0</th>\n",
       "      <td>POINT (-97.79858 30.47117)</td>\n",
       "      <td>NaN</td>\n",
       "      <td>NaN</td>\n",
       "      <td>NaN</td>\n",
       "      <td>NaN</td>\n",
       "      <td>NaN</td>\n",
       "      <td>NaN</td>\n",
       "      <td>NaN</td>\n",
       "      <td>NaN</td>\n",
       "      <td>NaN</td>\n",
       "      <td>...</td>\n",
       "      <td>NaN</td>\n",
       "      <td>NaN</td>\n",
       "      <td>NaN</td>\n",
       "      <td>NaN</td>\n",
       "      <td>NaN</td>\n",
       "      <td>NaN</td>\n",
       "      <td>NaN</td>\n",
       "      <td>NaN</td>\n",
       "      <td>NaN</td>\n",
       "      <td>NaN</td>\n",
       "    </tr>\n",
       "    <tr>\n",
       "      <th>1</th>\n",
       "      <td>POINT (-97.79667 30.46911)</td>\n",
       "      <td>traffic_signals</td>\n",
       "      <td>NaN</td>\n",
       "      <td>NaN</td>\n",
       "      <td>NaN</td>\n",
       "      <td>NaN</td>\n",
       "      <td>NaN</td>\n",
       "      <td>NaN</td>\n",
       "      <td>NaN</td>\n",
       "      <td>NaN</td>\n",
       "      <td>...</td>\n",
       "      <td>NaN</td>\n",
       "      <td>NaN</td>\n",
       "      <td>NaN</td>\n",
       "      <td>NaN</td>\n",
       "      <td>NaN</td>\n",
       "      <td>NaN</td>\n",
       "      <td>NaN</td>\n",
       "      <td>NaN</td>\n",
       "      <td>NaN</td>\n",
       "      <td>NaN</td>\n",
       "    </tr>\n",
       "    <tr>\n",
       "      <th>2</th>\n",
       "      <td>POINT (-97.79767 30.46882)</td>\n",
       "      <td>traffic_signals</td>\n",
       "      <td>NaN</td>\n",
       "      <td>NaN</td>\n",
       "      <td>NaN</td>\n",
       "      <td>NaN</td>\n",
       "      <td>NaN</td>\n",
       "      <td>NaN</td>\n",
       "      <td>NaN</td>\n",
       "      <td>NaN</td>\n",
       "      <td>...</td>\n",
       "      <td>NaN</td>\n",
       "      <td>NaN</td>\n",
       "      <td>NaN</td>\n",
       "      <td>NaN</td>\n",
       "      <td>NaN</td>\n",
       "      <td>NaN</td>\n",
       "      <td>NaN</td>\n",
       "      <td>NaN</td>\n",
       "      <td>NaN</td>\n",
       "      <td>NaN</td>\n",
       "    </tr>\n",
       "    <tr>\n",
       "      <th>3</th>\n",
       "      <td>POINT (-97.79914 30.47516)</td>\n",
       "      <td>NaN</td>\n",
       "      <td>NaN</td>\n",
       "      <td>NaN</td>\n",
       "      <td>NaN</td>\n",
       "      <td>NaN</td>\n",
       "      <td>NaN</td>\n",
       "      <td>NaN</td>\n",
       "      <td>NaN</td>\n",
       "      <td>NaN</td>\n",
       "      <td>...</td>\n",
       "      <td>NaN</td>\n",
       "      <td>NaN</td>\n",
       "      <td>NaN</td>\n",
       "      <td>NaN</td>\n",
       "      <td>NaN</td>\n",
       "      <td>NaN</td>\n",
       "      <td>NaN</td>\n",
       "      <td>NaN</td>\n",
       "      <td>NaN</td>\n",
       "      <td>NaN</td>\n",
       "    </tr>\n",
       "    <tr>\n",
       "      <th>4</th>\n",
       "      <td>POINT (-97.79926 30.47276)</td>\n",
       "      <td>traffic_signals</td>\n",
       "      <td>signal</td>\n",
       "      <td>NaN</td>\n",
       "      <td>NaN</td>\n",
       "      <td>NaN</td>\n",
       "      <td>NaN</td>\n",
       "      <td>NaN</td>\n",
       "      <td>NaN</td>\n",
       "      <td>NaN</td>\n",
       "      <td>...</td>\n",
       "      <td>NaN</td>\n",
       "      <td>NaN</td>\n",
       "      <td>NaN</td>\n",
       "      <td>NaN</td>\n",
       "      <td>NaN</td>\n",
       "      <td>NaN</td>\n",
       "      <td>NaN</td>\n",
       "      <td>NaN</td>\n",
       "      <td>NaN</td>\n",
       "      <td>NaN</td>\n",
       "    </tr>\n",
       "  </tbody>\n",
       "</table>\n",
       "<p>5 rows × 208 columns</p>\n",
       "</div>"
      ],
      "text/plain": [
       "                     geometry          highway traffic_signals curve_geometry  \\\n",
       "0  POINT (-97.79858 30.47117)              NaN             NaN            NaN   \n",
       "1  POINT (-97.79667 30.46911)  traffic_signals             NaN            NaN   \n",
       "2  POINT (-97.79767 30.46882)  traffic_signals             NaN            NaN   \n",
       "3  POINT (-97.79914 30.47516)              NaN             NaN            NaN   \n",
       "4  POINT (-97.79926 30.47276)  traffic_signals          signal            NaN   \n",
       "\n",
       "  traffic_signals:direction disused:railway source noref stop direction  ...  \\\n",
       "0                       NaN             NaN    NaN   NaN  NaN       NaN  ...   \n",
       "1                       NaN             NaN    NaN   NaN  NaN       NaN  ...   \n",
       "2                       NaN             NaN    NaN   NaN  NaN       NaN  ...   \n",
       "3                       NaN             NaN    NaN   NaN  NaN       NaN  ...   \n",
       "4                       NaN             NaN    NaN   NaN  NaN       NaN  ...   \n",
       "\n",
       "  sidewalk:right:bicycle status rideshare check_date embankment tunnel turn  \\\n",
       "0                    NaN    NaN       NaN        NaN        NaN    NaN  NaN   \n",
       "1                    NaN    NaN       NaN        NaN        NaN    NaN  NaN   \n",
       "2                    NaN    NaN       NaN        NaN        NaN    NaN  NaN   \n",
       "3                    NaN    NaN       NaN        NaN        NaN    NaN  NaN   \n",
       "4                    NaN    NaN       NaN        NaN        NaN    NaN  NaN   \n",
       "\n",
       "  sidewalk:both:surface landuse construction  \n",
       "0                   NaN     NaN          NaN  \n",
       "1                   NaN     NaN          NaN  \n",
       "2                   NaN     NaN          NaN  \n",
       "3                   NaN     NaN          NaN  \n",
       "4                   NaN     NaN          NaN  \n",
       "\n",
       "[5 rows x 208 columns]"
      ]
     },
     "execution_count": 62,
     "metadata": {},
     "output_type": "execute_result"
    }
   ],
   "source": [
    "df.head()"
   ]
  },
  {
   "cell_type": "code",
   "execution_count": 87,
   "id": "28b10242-14fd-4216-8888-df4aeb09b8d6",
   "metadata": {},
   "outputs": [
    {
     "data": {
      "text/plain": [
       "<AxesSubplot:>"
      ]
     },
     "execution_count": 87,
     "metadata": {},
     "output_type": "execute_result"
    },
    {
     "data": {
      "image/png": "[encoded data removed]",
      "text/plain": [
       "<Figure size 432x288 with 1 Axes>"
      ]
     },
     "metadata": {
      "needs_background": "light"
     },
     "output_type": "display_data"
    }
   ],
   "source": [
    "df.plot()"
   ]
  },
  {
   "cell_type": "code",
   "execution_count": null,
   "id": "c30dc301-3462-4c0e-8218-90329d208ec6",
   "metadata": {},
   "outputs": [],
   "source": []
  },
  {
   "cell_type": "code",
   "execution_count": null,
   "id": "7db5e33e-3ca5-44c4-a173-cdf54bf6a7d5",
   "metadata": {},
   "outputs": [],
   "source": []
  },
  {
   "cell_type": "code",
   "execution_count": null,
   "id": "1f90e819-dd31-4b36-a720-7bcc0a0e96e8",
   "metadata": {},
   "outputs": [],
   "source": []
  },
  {
   "cell_type": "code",
   "execution_count": null,
   "id": "731561cf-03b2-406b-a35e-4a93b506f627",
   "metadata": {},
   "outputs": [],
   "source": []
  },
  {
   "cell_type": "raw",
   "id": "4171bbfe-1c89-48d6-a5c4-4774b7664d02",
   "metadata": {},
   "source": [
    "# https://gist.github.com/4gus71n/26589a508d8deca333bb05928fd4beb0\n",
    "import overpass\n",
    "import urllib.parse\n",
    "import requests \n",
    "from bs4 import BeautifulSoup \n",
    "\n",
    "def get_osm_relation_id(address):\n",
    "\turl = \"https://www.openstreetmap.org/geocoder/search_osm_nominatim?query=\" + urllib.parse.quote(address)\n",
    "\tr = requests.get(url) \n",
    "\tsoup = BeautifulSoup(r.content, 'html5lib')\n",
    "\tosm_link = soup.find('a', attrs = {'class':'set_position'})\n",
    "\trelation_id = osm_link.get('data-id').strip()\n",
    "\t# print(relation_id)\n",
    "\t# 3600000000 is the id offset\n",
    "\treturn int(relation_id) # + 3600000000 "
   ]
  },
  {
   "cell_type": "raw",
   "id": "9ef5a56e-e0ec-4f37-8844-fd68d6acb72a",
   "metadata": {},
   "source": [
    "AUSTIN_RELATION_ID = get_osm_relation_id('Austin, Travis County, Texas')"
   ]
  }
 ],
 "metadata": {
  "kernelspec": {
   "display_name": "Python 3",
   "language": "python",
   "name": "python3"
  },
  "language_info": {
   "codemirror_mode": {
    "name": "ipython",
    "version": 3
   },
   "file_extension": ".py",
   "mimetype": "text/x-python",
   "name": "python",
   "nbconvert_exporter": "python",
   "pygments_lexer": "ipython3",
   "version": "3.8.5"
  }
 },
 "nbformat": 4,
 "nbformat_minor": 5
}
