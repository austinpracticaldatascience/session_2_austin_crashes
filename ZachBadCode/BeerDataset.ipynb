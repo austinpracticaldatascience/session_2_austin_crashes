{
  "nbformat": 4,
  "nbformat_minor": 0,
  "metadata": {
    "colab": {
      "provenance": [],
      "collapsed_sections": []
    },
    "kernelspec": {
      "name": "python3",
      "display_name": "Python 3"
    },
    "language_info": {
      "name": "python"
    }
  },
  "cells": [
    {
      "cell_type": "code",
      "source": [
        "import pandas as pd\n",
        "\n",
        "data_path = r'/content/drive/MyDrive/Mixed_Beverage_Gross_Receipts.csv'\n",
        "df = pd.read_csv(data_path)\n",
        "\n",
        "# print(df)\n",
        "# for i in df.columns:\n",
        "#   print(i)"
      ],
      "metadata": {
        "id": "aKWIiZmXmhfs"
      },
      "execution_count": 3,
      "outputs": []
    },
    {
      "cell_type": "markdown",
      "source": [
        "With this data, we can analyze the ratios between beer reciepts and total reviepts to give us some ratio. On its own, this ratio would mean very little.\n",
        "\n",
        "But we can analyze the ratios of the craft breweries (locations literally containing the word 'craft') to find an archetype of craft breweries, and use that to classify other locations via the ratio."
      ],
      "metadata": {
        "id": "MX1zC5V3vxp9"
      }
    },
    {
      "cell_type": "code",
      "source": [
        "df['ratio'] = df['Beer Receipts'].astype(float) / df['Total Receipts'].astype(float)\n",
        "print(df[['Taxpayer Name', 'Beer Receipts', 'Total Receipts', 'ratio']].head())\n",
        "\n",
        "craft_df = df.loc[df['Taxpayer Name'].str.contains(\"CRAFT\", case=False)]\n",
        "print(craft_df['Taxpayer Name'])"
      ],
      "metadata": {
        "colab": {
          "base_uri": "https://localhost:8080/"
        },
        "id": "bPsgaWydtYs_",
        "outputId": "92cf195f-9f9a-4466-87b8-9605caaab2a6"
      },
      "execution_count": 4,
      "outputs": [
        {
          "output_type": "stream",
          "name": "stdout",
          "text": [
            "                        Taxpayer Name  Beer Receipts  Total Receipts     ratio\n",
            "0        HONDURAS MAYA CAFE & BAR LLC              0               0       NaN\n",
            "1  MERMAID KARAOKE PRIVATE CLUB, INC.           1374            2039  0.673860\n",
            "2                FENG KAI CORPORATION            669            1979  0.338050\n",
            "3               THE HUTTO SMITHS, LLC          10447           23685  0.441081\n",
            "4  THE CROSSING AT FIDDLE CREEK, INC.           4620           11874  0.389085\n",
            "61         AUSTIN CRAFT SPIRITS COMPANY, LLC\n",
            "546              LLANO CRAFT DISTILLERY, LLC\n",
            "633              LLANO CRAFT DISTILLERY, LLC\n",
            "811                      THE CRAFTHOUSE, LLC\n",
            "1437                     THE CRAFTHOUSE, LLC\n",
            "                         ...                \n",
            "2797495                JORDAN CRAFT BBQ, LLC\n",
            "2799090            CURRY ON! CRAFT HOUSE LLC\n",
            "2800960                JORDAN CRAFT BBQ, LLC\n",
            "2801144                JORDAN CRAFT BBQ, LLC\n",
            "2801712          LLANO CRAFT DISTILLERY, LLC\n",
            "Name: Taxpayer Name, Length: 1739, dtype: object\n"
          ]
        }
      ]
    },
    {
      "cell_type": "markdown",
      "source": [],
      "metadata": {
        "id": "rHAug4ceweFu"
      }
    }
  ]
}